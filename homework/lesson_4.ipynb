{
 "cells": [
  {
   "cell_type": "markdown",
   "metadata": {
    "id": "HDS56_GsjsBV",
    "pycharm": {
     "name": "#%% md\n"
    }
   },
   "source": [
    "# Пример создания сверточных и пуллинг слоев"
   ]
  },
  {
   "cell_type": "code",
   "execution_count": 40,
   "metadata": {
    "scrolled": true,
    "pycharm": {
     "name": "#%%\n"
    }
   },
   "outputs": [
    {
     "data": {
      "text/plain": "[]"
     },
     "execution_count": 40,
     "metadata": {},
     "output_type": "execute_result"
    }
   ],
   "source": [
    "import numpy as np\n",
    "\n",
    "import os\n",
    "import matplotlib.pyplot as plt\n",
    "import tensorflow as tf\n",
    "# from tensorflow import keras\n",
    "from keras import layers, utils, optimizers\n",
    "from keras.preprocessing.image import ImageDataGenerator\n",
    "from keras import Sequential\n",
    "from keras.datasets import cifar10, mnist, cifar100\n",
    "\n",
    "\n",
    "# from tensorflow. imagenet\n",
    "\n",
    "\n",
    "\n",
    "tf.config.list_physical_devices('GPU')"
   ]
  },
  {
   "cell_type": "code",
   "execution_count": 41,
   "metadata": {
    "id": "MaMMi0T9t6hN",
    "pycharm": {
     "name": "#%%\n"
    }
   },
   "outputs": [],
   "source": [
    "# установка параметров нейросети\n",
    "batch_size = 128\n",
    "num_classes = 10\n",
    "epochs = 5\n",
    "data_augmentation = True\n",
    "save_dir = os.path.join(os.getcwd(), 'saved_models')\n",
    "model_name = 'keras_cifar10_trained_model.h5'"
   ]
  },
  {
   "cell_type": "code",
   "execution_count": 42,
   "metadata": {
    "colab": {
     "base_uri": "https://localhost:8080/"
    },
    "id": "oAgcOiKCt9Jp",
    "outputId": "1d2751de-07ce-4765-b7f1-281d0460a776",
    "pycharm": {
     "name": "#%%\n"
    }
   },
   "outputs": [
    {
     "name": "stdout",
     "output_type": "stream",
     "text": [
      "x_train shape: (50000, 32, 32, 3)\n",
      "50000 тренировочные примеры\n",
      "10000 тестовые примеры\n"
     ]
    }
   ],
   "source": [
    "# разделение тренировочной и тестовой выборки\n",
    "(x_train, y_train), (x_test, y_test) = cifar10.load_data()\n",
    "print('x_train shape:', x_train.shape)\n",
    "print(x_train.shape[0], 'тренировочные примеры')\n",
    "print(x_test.shape[0], 'тестовые примеры')\n",
    "\n",
    "# преобразование матрицы чисел 0-9 в бинарную матрицу чисел 0-1\n",
    "y_train = utils.to_categorical(y_train, num_classes)\n",
    "y_test = utils.to_categorical(y_test, num_classes)\n",
    "\n",
    "x_train = x_train.astype('float32')\n",
    "x_test = x_test.astype('float32')\n",
    "x_train /= 255\n",
    "x_test /= 255"
   ]
  },
  {
   "cell_type": "code",
   "execution_count": 55,
   "metadata": {
    "pycharm": {
     "name": "#%%\n"
    }
   },
   "outputs": [
    {
     "data": {
      "text/plain": "<matplotlib.image.AxesImage at 0x196dac3a8e0>"
     },
     "execution_count": 55,
     "metadata": {},
     "output_type": "execute_result"
    },
    {
     "data": {
      "text/plain": "<Figure size 432x288 with 1 Axes>",
      "image/png": "[encoded data removed]"
     },
     "metadata": {
      "needs_background": "light"
     },
     "output_type": "display_data"
    }
   ],
   "source": [
    "plt.imshow(x_train[5])"
   ]
  },
  {
   "cell_type": "code",
   "execution_count": 44,
   "metadata": {
    "id": "A0pGkz8RuAry",
    "pycharm": {
     "name": "#%%\n"
    }
   },
   "outputs": [],
   "source": [
    "# конфигурирование слоев нейросети\n",
    "model = Sequential([\n",
    "\n",
    "    # слои нейросети ответственные за свертку и max-pooling\n",
    "    layers.Conv2D(8, (4, 4), padding='valid', input_shape=x_train.shape[1:]),\n",
    "    layers.Activation('relu'),\n",
    "    layers.Conv2D(8, (4, 4)),\n",
    "    layers.Activation('relu'),\n",
    "    layers.MaxPooling2D(pool_size=(2, 2)),\n",
    "    layers.Dropout(0.15),\n",
    "\n",
    "    layers.Conv2D(64, (3, 3), padding='valid'),\n",
    "    layers.Activation('relu'),\n",
    "    layers.Conv2D(64, (3, 3)),\n",
    "    layers.Activation('relu'),\n",
    "    layers.MaxPooling2D(pool_size=(2, 2)),\n",
    "    layers.Dropout(0.2),\n",
    "\n",
    "    # полносвязные слои нейронной сети\n",
    "    layers.Flatten(),\n",
    "    layers.Dense(1024),\n",
    "    layers.Activation('relu'),\n",
    "    layers.Dropout(0.5),\n",
    "    layers.Dense(num_classes),\n",
    "    layers.Activation('softmax')\n",
    "])"
   ]
  },
  {
   "cell_type": "code",
   "execution_count": 46,
   "metadata": {
    "colab": {
     "base_uri": "https://localhost:8080/"
    },
    "id": "T-lq9E0rvBHV",
    "outputId": "2c502cc6-4fac-4274-f907-2b40425e0c6e",
    "pycharm": {
     "name": "#%%\n"
    }
   },
   "outputs": [],
   "source": [
    "# инициализация RMSprop optimizer\n",
    "opt = optimizers.RMSprop(learning_rate=0.0005, decay=1e-6)\n",
    "\n",
    "# компиляция модели\n",
    "model.compile(loss='categorical_crossentropy', optimizer=opt, metrics=['accuracy'])"
   ]
  },
  {
   "cell_type": "code",
   "execution_count": 47,
   "metadata": {
    "colab": {
     "base_uri": "https://localhost:8080/"
    },
    "id": "a5agZo6Jx2H7",
    "outputId": "29823b3c-46c7-4581-aae4-602604ffa8f6",
    "pycharm": {
     "name": "#%%\n"
    }
   },
   "outputs": [
    {
     "name": "stdout",
     "output_type": "stream",
     "text": [
      "Epoch 1/5\n",
      "391/391 [==============================] - 56s 139ms/step - loss: 1.9044 - accuracy: 0.3067 - val_loss: 1.6747 - val_accuracy: 0.3961\n",
      "Epoch 2/5\n",
      "391/391 [==============================] - 54s 137ms/step - loss: 1.6597 - accuracy: 0.3965 - val_loss: 1.4692 - val_accuracy: 0.4642\n",
      "Epoch 3/5\n",
      "391/391 [==============================] - 54s 137ms/step - loss: 1.5544 - accuracy: 0.4392 - val_loss: 1.4195 - val_accuracy: 0.4933\n",
      "Epoch 4/5\n",
      "391/391 [==============================] - 53s 135ms/step - loss: 1.4760 - accuracy: 0.4695 - val_loss: 1.3018 - val_accuracy: 0.5303\n",
      "Epoch 5/5\n",
      "391/391 [==============================] - 53s 135ms/step - loss: 1.4183 - accuracy: 0.4933 - val_loss: 1.3046 - val_accuracy: 0.5283\n"
     ]
    },
    {
     "data": {
      "text/plain": "<keras.callbacks.History at 0x196d87b9f70>"
     },
     "execution_count": 47,
     "metadata": {},
     "output_type": "execute_result"
    }
   ],
   "source": [
    "datagen = ImageDataGenerator(\n",
    "    width_shift_range=0.1,\n",
    "    height_shift_range=0.1,\n",
    "    horizontal_flip=0.5)\n",
    "\n",
    "# запуск data augmentation через fit_generator\n",
    "model.fit(datagen.flow(x_train, y_train, batch_size=batch_size),\n",
    "          epochs=epochs,\n",
    "          validation_data=(x_test, y_test),\n",
    "          workers=8)"
   ]
  },
  {
   "cell_type": "code",
   "execution_count": 48,
   "metadata": {
    "colab": {
     "base_uri": "https://localhost:8080/"
    },
    "id": "x-8Pnp33yURc",
    "outputId": "c4ade662-1d93-45c0-c7a2-89389e8a190b",
    "pycharm": {
     "name": "#%%\n"
    }
   },
   "outputs": [
    {
     "name": "stdout",
     "output_type": "stream",
     "text": [
      "313/313 [==============================] - 3s 10ms/step - loss: 1.3046 - accuracy: 0.5283\n",
      "Test loss: 1.3045744895935059\n",
      "Test accuracy: 0.5282999873161316\n"
     ]
    }
   ],
   "source": [
    "# проверка работы обученной модели\n",
    "scores = model.evaluate(x_test, y_test, verbose=1)\n",
    "print('Test loss:', scores[0])\n",
    "print('Test accuracy:', scores[1])"
   ]
  },
  {
   "cell_type": "code",
   "execution_count": 51,
   "outputs": [
    {
     "data": {
      "text/plain": "array([[[0.61960787, 0.4392157 , 0.19215687],\n        [0.62352943, 0.43529412, 0.18431373],\n        [0.64705884, 0.45490196, 0.2       ],\n        ...,\n        [0.5372549 , 0.37254903, 0.14117648],\n        [0.49411765, 0.35686275, 0.14117648],\n        [0.45490196, 0.33333334, 0.12941177]],\n\n       [[0.59607846, 0.4392157 , 0.2       ],\n        [0.5921569 , 0.43137255, 0.15686275],\n        [0.62352943, 0.44705883, 0.1764706 ],\n        ...,\n        [0.53333336, 0.37254903, 0.12156863],\n        [0.49019608, 0.35686275, 0.1254902 ],\n        [0.46666667, 0.34509805, 0.13333334]],\n\n       [[0.5921569 , 0.43137255, 0.18431373],\n        [0.5921569 , 0.42745098, 0.12941177],\n        [0.61960787, 0.43529412, 0.14117648],\n        ...,\n        [0.54509807, 0.38431373, 0.13333334],\n        [0.50980395, 0.37254903, 0.13333334],\n        [0.47058824, 0.34901962, 0.12941177]],\n\n       ...,\n\n       [[0.26666668, 0.4862745 , 0.69411767],\n        [0.16470589, 0.39215687, 0.5803922 ],\n        [0.12156863, 0.34509805, 0.5372549 ],\n        ...,\n        [0.14901961, 0.38039216, 0.57254905],\n        [0.05098039, 0.2509804 , 0.42352942],\n        [0.15686275, 0.33333334, 0.49803922]],\n\n       [[0.23921569, 0.45490196, 0.65882355],\n        [0.19215687, 0.4       , 0.5803922 ],\n        [0.13725491, 0.33333334, 0.5176471 ],\n        ...,\n        [0.10196079, 0.32156864, 0.50980395],\n        [0.11372549, 0.32156864, 0.49411765],\n        [0.07843138, 0.2509804 , 0.41960785]],\n\n       [[0.21176471, 0.41960785, 0.627451  ],\n        [0.21960784, 0.4117647 , 0.58431375],\n        [0.1764706 , 0.34901962, 0.5176471 ],\n        ...,\n        [0.09411765, 0.3019608 , 0.4862745 ],\n        [0.13333334, 0.32941177, 0.5058824 ],\n        [0.08235294, 0.2627451 , 0.43137255]]], dtype=float32)"
     },
     "execution_count": 51,
     "metadata": {},
     "output_type": "execute_result"
    }
   ],
   "source": [
    "x_test[0]"
   ],
   "metadata": {
    "collapsed": false,
    "pycharm": {
     "name": "#%%\n"
    }
   }
  },
  {
   "cell_type": "code",
   "execution_count": 52,
   "outputs": [
    {
     "data": {
      "text/plain": "(10000, 10)"
     },
     "execution_count": 52,
     "metadata": {},
     "output_type": "execute_result"
    }
   ],
   "source": [
    "y_test.shape"
   ],
   "metadata": {
    "collapsed": false,
    "pycharm": {
     "name": "#%%\n"
    }
   }
  },
  {
   "cell_type": "markdown",
   "source": [
    "### Выводы\n",
    "Попробуйте улучшить точность распознавания образов cifar 10 сверточной нейронной сетью, рассмотренной на уроке.\n",
    "Приложите анализ с описанием того, что улучшает работу нейронной сети, а что ухудшает\n",
    "\n",
    "Опишите в анализе, какие изменения необходимо было бы внести в получившуюся нейронную сеть, если бы ей нужно было работать не с cifar10, а с MNIST, CIFAR100 и IMAGENET"
   ],
   "metadata": {
    "collapsed": false,
    "pycharm": {
     "name": "#%% md\n"
    }
   }
  },
  {
   "cell_type": "markdown",
   "source": [
    "Положительный эффект на работу НС оказали следующие изменения:\n",
    "- уменьшение количества фильтров в первом свёрточном слое\n",
    "- увеличение размера ядра на первом свёрточном слое\n",
    "- изменение типа отступа\n",
    "- уменьшение процента зашумления\n",
    "- количество нейронов выходного слоя\n",
    "- подбор оптимального коэффициента обучения\n",
    "Отрицательный эффект при следующих изменениях:\n",
    "- увеличение количества фильтров свёрточном слое\n",
    "- увеличение процента зашумления\n",
    "- слишком большой размер окна полинга\n",
    "- черезмерное увеличение/уменьшение коэффициента обучения"
   ],
   "metadata": {
    "collapsed": false,
    "pycharm": {
     "name": "#%% md\n"
    }
   }
  },
  {
   "cell_type": "markdown",
   "source": [
    "Думаю при работе с MNIST нужно было бы уменьшить размер ядра свертки, а при работе с CIFAR100 добавить еще несколько сверточных слоев, что бы НС научилась распознавать больше признаков и как следствие делить на большее количество классов.\n"
   ],
   "metadata": {
    "collapsed": false,
    "pycharm": {
     "name": "#%% md\n"
    }
   }
  }
 ],
 "metadata": {
  "accelerator": "GPU",
  "colab": {
   "name": "Lesson 4.ipynb",
   "provenance": []
  },
  "kernelspec": {
   "name": "python3",
   "language": "python",
   "display_name": "Python 3"
  },
  "language_info": {
   "codemirror_mode": {
    "name": "ipython",
    "version": 3
   },
   "file_extension": ".py",
   "mimetype": "text/x-python",
   "name": "python",
   "nbconvert_exporter": "python",
   "pygments_lexer": "ipython3",
   "version": "3.10.4"
  }
 },
 "nbformat": 4,
 "nbformat_minor": 1
}